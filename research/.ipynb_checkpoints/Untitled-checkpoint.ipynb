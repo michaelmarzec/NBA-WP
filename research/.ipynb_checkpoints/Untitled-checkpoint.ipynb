{
 "cells": [
  {
   "cell_type": "code",
   "execution_count": 1,
   "id": "e2616951-5762-4c80-9828-3f745e6160d7",
   "metadata": {},
   "outputs": [],
   "source": [
    "### NBA-WP Research\n",
    "# Evaluate if NBA-WP is correlated to in-season and/or post-season results\n",
    "# Cross-compare against point differential"
   ]
  },
  {
   "cell_type": "code",
   "execution_count": 2,
   "id": "8aa3ce48-8553-4554-9f03-6f0728b0ee83",
   "metadata": {},
   "outputs": [],
   "source": [
    "import pandas as pd"
   ]
  },
  {
   "cell_type": "code",
   "execution_count": null,
   "id": "ab224338-c7a5-4b19-aee0-78605dc3a7a6",
   "metadata": {},
   "outputs": [],
   "source": []
  }
 ],
 "metadata": {
  "kernelspec": {
   "display_name": "Python 3 (ipykernel)",
   "language": "python",
   "name": "python3"
  },
  "language_info": {
   "codemirror_mode": {
    "name": "ipython",
    "version": 3
   },
   "file_extension": ".py",
   "mimetype": "text/x-python",
   "name": "python",
   "nbconvert_exporter": "python",
   "pygments_lexer": "ipython3",
   "version": "3.9.12"
  }
 },
 "nbformat": 4,
 "nbformat_minor": 5
}
