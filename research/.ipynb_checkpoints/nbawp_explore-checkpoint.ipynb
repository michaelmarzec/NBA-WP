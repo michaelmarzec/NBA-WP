{
 "cells": [
  {
   "cell_type": "markdown",
   "id": "e6c1ec6d-f46d-4343-aa25-2146bb381d9e",
   "metadata": {},
   "source": [
    "# NBA WP Research"
   ]
  },
  {
   "cell_type": "markdown",
   "id": "79645713-5807-40e5-bb57-5e1732476f4d",
   "metadata": {},
   "source": [
    "## Outline"
   ]
  },
  {
   "cell_type": "code",
   "execution_count": 1,
   "id": "e2616951-5762-4c80-9828-3f745e6160d7",
   "metadata": {},
   "outputs": [],
   "source": [
    "### NBA-WP Research\n",
    "# Evaluate if NBA-WP is correlated to in-season and/or post-season results\n",
    "# Cross-compare against point differential"
   ]
  },
  {
   "cell_type": "markdown",
   "id": "cc0a8175-f342-4be2-8d79-0f73957e7e69",
   "metadata": {},
   "source": [
    "## Exploratory Analysis"
   ]
  },
  {
   "cell_type": "markdown",
   "id": "68aef4d1-1317-4505-a511-a76ce71a3a03",
   "metadata": {},
   "source": [
    "### Library Import"
   ]
  },
  {
   "cell_type": "code",
   "execution_count": 39,
   "id": "8aa3ce48-8553-4554-9f03-6f0728b0ee83",
   "metadata": {},
   "outputs": [],
   "source": [
    "import matplotlib.pyplot as plt\n",
    "import numpy as np\n",
    "import pandas as pd"
   ]
  },
  {
   "cell_type": "markdown",
   "id": "b285e094-7d88-4d9a-8870-9878122f7a95",
   "metadata": {},
   "source": [
    "### Data Import"
   ]
  },
  {
   "cell_type": "code",
   "execution_count": 27,
   "id": "ab224338-c7a5-4b19-aee0-78605dc3a7a6",
   "metadata": {},
   "outputs": [],
   "source": [
    "df_2223 = pd.read_csv('df_22_23.csv')\n",
    "df_2324 = pd.read_csv('df_23_24.csv')\n",
    "df_2223_postseason = pd.read_csv('df_22_23_postseason.csv')"
   ]
  },
  {
   "cell_type": "markdown",
   "id": "f4d44ecb-a51b-4ad3-9d16-6a1ed2352b26",
   "metadata": {},
   "source": [
    "### Correlation Checks: In-Season WP%"
   ]
  },
  {
   "cell_type": "code",
   "execution_count": 10,
   "id": "0e0b7250-5349-4d58-88df-3a45c2d944fa",
   "metadata": {},
   "outputs": [
    {
     "name": "stdout",
     "output_type": "stream",
     "text": [
      "                 WP  Point Diff\n",
      "WP          1.00000     0.95901\n",
      "Point Diff  0.95901     1.00000\n"
     ]
    }
   ],
   "source": [
    "print(df_2223[['WP','Point Diff']].corr())"
   ]
  },
  {
   "cell_type": "code",
   "execution_count": 11,
   "id": "94d678e9-c118-4628-921a-e8f5fab30a2a",
   "metadata": {},
   "outputs": [
    {
     "name": "stdout",
     "output_type": "stream",
     "text": [
      "         WP       WT\n",
      "WP  1.00000  0.91594\n",
      "WT  0.91594  1.00000\n"
     ]
    }
   ],
   "source": [
    "print(df_2223[['WP','WT']].corr())"
   ]
  },
  {
   "cell_type": "code",
   "execution_count": 22,
   "id": "86b0ec15-315b-4460-a561-72fe484fab5f",
   "metadata": {},
   "outputs": [
    {
     "name": "stdout",
     "output_type": "stream",
     "text": [
      "                  WP  Point Diff\n",
      "WP          1.000000    0.952661\n",
      "Point Diff  0.952661    1.000000\n"
     ]
    }
   ],
   "source": [
    "print(df_2324[['WP','Point Diff']].corr())"
   ]
  },
  {
   "cell_type": "code",
   "execution_count": 23,
   "id": "9c2cf297-043c-4e7c-ae1d-1e7074260810",
   "metadata": {},
   "outputs": [
    {
     "name": "stdout",
     "output_type": "stream",
     "text": [
      "          WP        WT\n",
      "WP  1.000000  0.842845\n",
      "WT  0.842845  1.000000\n"
     ]
    }
   ],
   "source": [
    "print(df_2324[['WP','WT']].corr())"
   ]
  },
  {
   "cell_type": "markdown",
   "id": "638620cd-698a-471a-aed1-73beac122cfe",
   "metadata": {},
   "source": [
    "### Correlation Checks: Post-Season WP% and/or Wins"
   ]
  },
  {
   "cell_type": "code",
   "execution_count": 30,
   "id": "9e39c746-45ee-4e2b-b794-1872dc8cc6c6",
   "metadata": {},
   "outputs": [
    {
     "name": "stdout",
     "output_type": "stream",
     "text": [
      "                  WP  Point Diff\n",
      "WP          1.000000    0.136659\n",
      "Point Diff  0.136659    1.000000\n"
     ]
    }
   ],
   "source": [
    "print(df_2223_postseason[['WP','Point Diff']].corr())"
   ]
  },
  {
   "cell_type": "code",
   "execution_count": 31,
   "id": "8e280828-c8a9-4445-9e13-41fb11e89b56",
   "metadata": {},
   "outputs": [
    {
     "name": "stdout",
     "output_type": "stream",
     "text": [
      "                   W  Point Diff\n",
      "W           1.000000    0.077003\n",
      "Point Diff  0.077003    1.000000\n"
     ]
    }
   ],
   "source": [
    "print(df_2223_postseason[['W','Point Diff']].corr())"
   ]
  },
  {
   "cell_type": "code",
   "execution_count": 32,
   "id": "f0427727-11de-4c73-89a6-697cdf392dc5",
   "metadata": {},
   "outputs": [
    {
     "name": "stdout",
     "output_type": "stream",
     "text": [
      "          WP        WT\n",
      "WP  1.000000  0.008175\n",
      "WT  0.008175  1.000000\n"
     ]
    }
   ],
   "source": [
    "print(df_2223_postseason[['WP','WT']].corr())"
   ]
  },
  {
   "cell_type": "code",
   "execution_count": 33,
   "id": "33b87961-8150-410d-8557-17ce559291db",
   "metadata": {},
   "outputs": [
    {
     "name": "stdout",
     "output_type": "stream",
     "text": [
      "           W        WT\n",
      "W   1.000000 -0.070515\n",
      "WT -0.070515  1.000000\n"
     ]
    }
   ],
   "source": [
    "print(df_2223_postseason[['W','WT']].corr())"
   ]
  },
  {
   "cell_type": "markdown",
   "id": "d5742a5e-859a-4a10-a196-4887fe04f12c",
   "metadata": {},
   "source": [
    "### Correlation Checks: WT and PD"
   ]
  },
  {
   "cell_type": "code",
   "execution_count": 35,
   "id": "4a7589fd-fc58-49be-a1e1-f0564d9317f4",
   "metadata": {
    "tags": []
   },
   "outputs": [
    {
     "name": "stdout",
     "output_type": "stream",
     "text": [
      "                  WT  Point Diff\n",
      "WT          1.000000    0.915203\n",
      "Point Diff  0.915203    1.000000\n"
     ]
    }
   ],
   "source": [
    "print(df_2223[['WT','Point Diff']].corr())"
   ]
  },
  {
   "cell_type": "code",
   "execution_count": 34,
   "id": "3e3520e4-8b69-4062-baee-71d73dae1666",
   "metadata": {},
   "outputs": [
    {
     "name": "stdout",
     "output_type": "stream",
     "text": [
      "                 WT  Point Diff\n",
      "WT          1.00000     0.87404\n",
      "Point Diff  0.87404     1.00000\n"
     ]
    }
   ],
   "source": [
    "print(df_2324[['WT','Point Diff']].corr())"
   ]
  },
  {
   "cell_type": "markdown",
   "id": "751bf72f-ff96-4398-8dbb-096bf2b73830",
   "metadata": {},
   "source": [
    "### Plot Distributions"
   ]
  },
  {
   "cell_type": "code",
   "execution_count": 37,
   "id": "5ea13d1e-f1c9-49a0-b606-113389ead5f6",
   "metadata": {},
   "outputs": [],
   "source": []
  },
  {
   "cell_type": "code",
   "execution_count": null,
   "id": "3a913d73-4635-4b9d-9ad1-8b9978f8abd1",
   "metadata": {},
   "outputs": [],
   "source": []
  }
 ],
 "metadata": {
  "kernelspec": {
   "display_name": "Python 3 (ipykernel)",
   "language": "python",
   "name": "python3"
  },
  "language_info": {
   "codemirror_mode": {
    "name": "ipython",
    "version": 3
   },
   "file_extension": ".py",
   "mimetype": "text/x-python",
   "name": "python",
   "nbconvert_exporter": "python",
   "pygments_lexer": "ipython3",
   "version": "3.9.12"
  }
 },
 "nbformat": 4,
 "nbformat_minor": 5
}
