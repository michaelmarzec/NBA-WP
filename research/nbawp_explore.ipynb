{
 "cells": [
  {
   "cell_type": "markdown",
   "id": "e6c1ec6d-f46d-4343-aa25-2146bb381d9e",
   "metadata": {},
   "source": [
    "# NBA WP Research"
   ]
  },
  {
   "cell_type": "markdown",
   "id": "79645713-5807-40e5-bb57-5e1732476f4d",
   "metadata": {},
   "source": [
    "## Outline"
   ]
  },
  {
   "cell_type": "code",
   "execution_count": 1,
   "id": "e2616951-5762-4c80-9828-3f745e6160d7",
   "metadata": {},
   "outputs": [],
   "source": [
    "### NBA-WP Research\n",
    "# Evaluate if NBA-WP is correlated to in-season and/or post-season results\n",
    "# Cross-compare against point differential"
   ]
  },
  {
   "cell_type": "markdown",
   "id": "cc0a8175-f342-4be2-8d79-0f73957e7e69",
   "metadata": {},
   "source": [
    "## Exploratory Analysis"
   ]
  },
  {
   "cell_type": "markdown",
   "id": "68aef4d1-1317-4505-a511-a76ce71a3a03",
   "metadata": {},
   "source": [
    "### Library Import"
   ]
  },
  {
   "cell_type": "code",
   "execution_count": 39,
   "id": "8aa3ce48-8553-4554-9f03-6f0728b0ee83",
   "metadata": {},
   "outputs": [],
   "source": [
    "import matplotlib.pyplot as plt\n",
    "import numpy as np\n",
    "import pandas as pd"
   ]
  },
  {
   "cell_type": "markdown",
   "id": "b285e094-7d88-4d9a-8870-9878122f7a95",
   "metadata": {},
   "source": [
    "### Data Import"
   ]
  },
  {
   "cell_type": "code",
   "execution_count": 27,
   "id": "ab224338-c7a5-4b19-aee0-78605dc3a7a6",
   "metadata": {},
   "outputs": [],
   "source": [
    "df_2223 = pd.read_csv('df_22_23.csv')\n",
    "df_2324 = pd.read_csv('df_23_24.csv')\n",
    "df_2223_postseason = pd.read_csv('df_22_23_postseason.csv')"
   ]
  },
  {
   "cell_type": "markdown",
   "id": "f4d44ecb-a51b-4ad3-9d16-6a1ed2352b26",
   "metadata": {},
   "source": [
    "### Correlation Checks: In-Season WP%"
   ]
  },
  {
   "cell_type": "code",
   "execution_count": 10,
   "id": "0e0b7250-5349-4d58-88df-3a45c2d944fa",
   "metadata": {},
   "outputs": [
    {
     "name": "stdout",
     "output_type": "stream",
     "text": [
      "                 WP  Point Diff\n",
      "WP          1.00000     0.95901\n",
      "Point Diff  0.95901     1.00000\n"
     ]
    }
   ],
   "source": [
    "print(df_2223[['WP','Point Diff']].corr())"
   ]
  },
  {
   "cell_type": "code",
   "execution_count": 11,
   "id": "94d678e9-c118-4628-921a-e8f5fab30a2a",
   "metadata": {},
   "outputs": [
    {
     "name": "stdout",
     "output_type": "stream",
     "text": [
      "         WP       WT\n",
      "WP  1.00000  0.91594\n",
      "WT  0.91594  1.00000\n"
     ]
    }
   ],
   "source": [
    "print(df_2223[['WP','WT']].corr())"
   ]
  },
  {
   "cell_type": "code",
   "execution_count": 22,
   "id": "86b0ec15-315b-4460-a561-72fe484fab5f",
   "metadata": {},
   "outputs": [
    {
     "name": "stdout",
     "output_type": "stream",
     "text": [
      "                  WP  Point Diff\n",
      "WP          1.000000    0.952661\n",
      "Point Diff  0.952661    1.000000\n"
     ]
    }
   ],
   "source": [
    "print(df_2324[['WP','Point Diff']].corr())"
   ]
  },
  {
   "cell_type": "code",
   "execution_count": 23,
   "id": "9c2cf297-043c-4e7c-ae1d-1e7074260810",
   "metadata": {},
   "outputs": [
    {
     "name": "stdout",
     "output_type": "stream",
     "text": [
      "          WP        WT\n",
      "WP  1.000000  0.842845\n",
      "WT  0.842845  1.000000\n"
     ]
    }
   ],
   "source": [
    "print(df_2324[['WP','WT']].corr())"
   ]
  },
  {
   "cell_type": "markdown",
   "id": "638620cd-698a-471a-aed1-73beac122cfe",
   "metadata": {},
   "source": [
    "### Correlation Checks: Post-Season WP% and/or Wins"
   ]
  },
  {
   "cell_type": "code",
   "execution_count": 30,
   "id": "9e39c746-45ee-4e2b-b794-1872dc8cc6c6",
   "metadata": {},
   "outputs": [
    {
     "name": "stdout",
     "output_type": "stream",
     "text": [
      "                  WP  Point Diff\n",
      "WP          1.000000    0.136659\n",
      "Point Diff  0.136659    1.000000\n"
     ]
    }
   ],
   "source": [
    "print(df_2223_postseason[['WP','Point Diff']].corr())"
   ]
  },
  {
   "cell_type": "code",
   "execution_count": 31,
   "id": "8e280828-c8a9-4445-9e13-41fb11e89b56",
   "metadata": {},
   "outputs": [
    {
     "name": "stdout",
     "output_type": "stream",
     "text": [
      "                   W  Point Diff\n",
      "W           1.000000    0.077003\n",
      "Point Diff  0.077003    1.000000\n"
     ]
    }
   ],
   "source": [
    "print(df_2223_postseason[['W','Point Diff']].corr())"
   ]
  },
  {
   "cell_type": "code",
   "execution_count": 32,
   "id": "f0427727-11de-4c73-89a6-697cdf392dc5",
   "metadata": {},
   "outputs": [
    {
     "name": "stdout",
     "output_type": "stream",
     "text": [
      "          WP        WT\n",
      "WP  1.000000  0.008175\n",
      "WT  0.008175  1.000000\n"
     ]
    }
   ],
   "source": [
    "print(df_2223_postseason[['WP','WT']].corr())"
   ]
  },
  {
   "cell_type": "code",
   "execution_count": 33,
   "id": "33b87961-8150-410d-8557-17ce559291db",
   "metadata": {},
   "outputs": [
    {
     "name": "stdout",
     "output_type": "stream",
     "text": [
      "           W        WT\n",
      "W   1.000000 -0.070515\n",
      "WT -0.070515  1.000000\n"
     ]
    }
   ],
   "source": [
    "print(df_2223_postseason[['W','WT']].corr())"
   ]
  },
  {
   "cell_type": "markdown",
   "id": "d5742a5e-859a-4a10-a196-4887fe04f12c",
   "metadata": {},
   "source": [
    "### Correlation Checks: WT and PD"
   ]
  },
  {
   "cell_type": "code",
   "execution_count": 35,
   "id": "4a7589fd-fc58-49be-a1e1-f0564d9317f4",
   "metadata": {
    "tags": []
   },
   "outputs": [
    {
     "name": "stdout",
     "output_type": "stream",
     "text": [
      "                  WT  Point Diff\n",
      "WT          1.000000    0.915203\n",
      "Point Diff  0.915203    1.000000\n"
     ]
    }
   ],
   "source": [
    "print(df_2223[['WT','Point Diff']].corr())"
   ]
  },
  {
   "cell_type": "code",
   "execution_count": 34,
   "id": "3e3520e4-8b69-4062-baee-71d73dae1666",
   "metadata": {},
   "outputs": [
    {
     "name": "stdout",
     "output_type": "stream",
     "text": [
      "                 WT  Point Diff\n",
      "WT          1.00000     0.87404\n",
      "Point Diff  0.87404     1.00000\n"
     ]
    }
   ],
   "source": [
    "print(df_2324[['WT','Point Diff']].corr())"
   ]
  },
  {
   "cell_type": "markdown",
   "id": "751bf72f-ff96-4398-8dbb-096bf2b73830",
   "metadata": {},
   "source": [
    "### Plot Distributions"
   ]
  },
  {
   "cell_type": "code",
   "execution_count": 43,
   "id": "5ea13d1e-f1c9-49a0-b606-113389ead5f6",
   "metadata": {},
   "outputs": [
    {
     "data": {
      "text/plain": [
       "(array([1., 2., 0., 1., 0., 2., 1., 1., 4., 7., 4., 1., 3., 1., 2.]),\n",
       " array([-9.9 , -8.78, -7.66, -6.54, -5.42, -4.3 , -3.18, -2.06, -0.94,\n",
       "         0.18,  1.3 ,  2.42,  3.54,  4.66,  5.78,  6.9 ]),\n",
       " <BarContainer object of 15 artists>)"
      ]
     },
     "execution_count": 43,
     "metadata": {},
     "output_type": "execute_result"
    },
    {
     "data": {
      "image/png": "[encoded data removed]",
      "text/plain": [
       "<Figure size 432x288 with 1 Axes>"
      ]
     },
     "metadata": {
      "needs_background": "light"
     },
     "output_type": "display_data"
    }
   ],
   "source": [
    "plt.hist(df_2223['Point Diff'], color='lightgreen', ec='black', bins=15)"
   ]
  },
  {
   "cell_type": "code",
   "execution_count": 45,
   "id": "e3bf7f23-7412-487e-81fd-a4ac885c7920",
   "metadata": {},
   "outputs": [
    {
     "data": {
      "text/plain": [
       "(array([1., 0., 3., 0., 1., 2., 2., 3., 3., 4., 3., 5., 0., 0., 3.]),\n",
       " array([0.269     , 0.29293333, 0.31686667, 0.3408    , 0.36473333,\n",
       "        0.38866667, 0.4126    , 0.43653333, 0.46046667, 0.4844    ,\n",
       "        0.50833333, 0.53226667, 0.5562    , 0.58013333, 0.60406667,\n",
       "        0.628     ]),\n",
       " <BarContainer object of 15 artists>)"
      ]
     },
     "execution_count": 45,
     "metadata": {},
     "output_type": "execute_result"
    },
    {
     "data": {
      "image/png": "[encoded data removed]",
      "text/plain": [
       "<Figure size 432x288 with 1 Axes>"
      ]
     },
     "metadata": {
      "needs_background": "light"
     },
     "output_type": "display_data"
    }
   ],
   "source": [
    "plt.hist(df_2223['WT'], color='lightgreen', ec='black', bins=15)"
   ]
  },
  {
   "cell_type": "code",
   "execution_count": 44,
   "id": "3a913d73-4635-4b9d-9ad1-8b9978f8abd1",
   "metadata": {},
   "outputs": [
    {
     "data": {
      "text/plain": [
       "(array([3., 1., 1., 0., 1., 0., 3., 3., 4., 4., 1., 4., 0., 3., 2.]),\n",
       " array([-12.3       , -10.81333333,  -9.32666667,  -7.84      ,\n",
       "         -6.35333333,  -4.86666667,  -3.38      ,  -1.89333333,\n",
       "         -0.40666667,   1.08      ,   2.56666667,   4.05333333,\n",
       "          5.54      ,   7.02666667,   8.51333333,  10.        ]),\n",
       " <BarContainer object of 15 artists>)"
      ]
     },
     "execution_count": 44,
     "metadata": {},
     "output_type": "execute_result"
    },
    {
     "data": {
      "image/png": "[encoded data removed]",
      "text/plain": [
       "<Figure size 432x288 with 1 Axes>"
      ]
     },
     "metadata": {
      "needs_background": "light"
     },
     "output_type": "display_data"
    }
   ],
   "source": [
    "plt.hist(df_2324['Point Diff'], color='lightgreen', ec='black', bins=15)"
   ]
  },
  {
   "cell_type": "code",
   "execution_count": 46,
   "id": "0f7f6702-bda9-45d1-a0b4-bbe866fe4332",
   "metadata": {},
   "outputs": [
    {
     "data": {
      "text/plain": [
       "(array([2., 0., 1., 1., 3., 2., 2., 1., 4., 3., 3., 2., 1., 3., 2.]),\n",
       " array([0.195 , 0.2286, 0.2622, 0.2958, 0.3294, 0.363 , 0.3966, 0.4302,\n",
       "        0.4638, 0.4974, 0.531 , 0.5646, 0.5982, 0.6318, 0.6654, 0.699 ]),\n",
       " <BarContainer object of 15 artists>)"
      ]
     },
     "execution_count": 46,
     "metadata": {},
     "output_type": "execute_result"
    },
    {
     "data": {
      "image/png": "[encoded data removed]",
      "text/plain": [
       "<Figure size 432x288 with 1 Axes>"
      ]
     },
     "metadata": {
      "needs_background": "light"
     },
     "output_type": "display_data"
    }
   ],
   "source": [
    "plt.hist(df_2324['WT'], color='lightgreen', ec='black', bins=15)"
   ]
  }
 ],
 "metadata": {
  "kernelspec": {
   "display_name": "Python 3 (ipykernel)",
   "language": "python",
   "name": "python3"
  },
  "language_info": {
   "codemirror_mode": {
    "name": "ipython",
    "version": 3
   },
   "file_extension": ".py",
   "mimetype": "text/x-python",
   "name": "python",
   "nbconvert_exporter": "python",
   "pygments_lexer": "ipython3",
   "version": "3.9.12"
  }
 },
 "nbformat": 4,
 "nbformat_minor": 5
}
